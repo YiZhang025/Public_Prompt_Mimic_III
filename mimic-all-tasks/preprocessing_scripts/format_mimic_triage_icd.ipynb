{
 "cells": [
  {
   "cell_type": "code",
   "execution_count": 3,
   "id": "e42dfaf7",
   "metadata": {},
   "outputs": [
    {
     "name": "stdout",
     "output_type": "stream",
     "text": [
      "Collecting tqdm\n",
      "  Using cached https://files.pythonhosted.org/packages/63/f3/b7a1b8e40fd1bd049a34566eb353527bb9b8e9b98f8b6cf803bb64d8ce95/tqdm-4.62.3-py2.py3-none-any.whl\n",
      "Installing collected packages: tqdm\n",
      "Successfully installed tqdm-4.62.3\n"
     ]
    }
   ],
   "source": [
    "# !pip3 install tqdm"
   ]
  },
  {
   "cell_type": "code",
   "execution_count": 1,
   "id": "81cbfb99",
   "metadata": {},
   "outputs": [],
   "source": [
    "import pandas as pd\n",
    "import numpy as np\n",
    "from tqdm import tqdm\n",
    "import os\n"
   ]
  },
  {
   "cell_type": "code",
   "execution_count": 2,
   "id": "9da8e561",
   "metadata": {},
   "outputs": [],
   "source": [
    "data_dir = \"../data/intermediary-data/\""
   ]
  },
  {
   "cell_type": "code",
   "execution_count": 3,
   "id": "62140c6c",
   "metadata": {},
   "outputs": [],
   "source": [
    "# first lets check the creation of top n icd9 code datasets\n",
    "\n",
    "def get_topN_mimic_data(path, save_dir, modes = [\"train\",\"validate\",\"test\"],n_labels = 50): #REWRITE\n",
    "    \"\"\" Reads a comma separated value file.\n",
    "\n",
    "    :param path: path to a csv file.\n",
    "            save_dir: path to save filtered data\n",
    "            n_labels: number of top icd9 codes to subset\n",
    "    \n",
    "    :return: List of records as dictionaries\n",
    "    \"\"\"\n",
    "        # can create a dataset to return\n",
    "    dataset = {}\n",
    "    #run through each provided data mode or set i.e. train/valid/test files   \n",
    "    for mode in tqdm(modes):    \n",
    "        # read in the processed training data with all icd9 codes \n",
    "        df = pd.read_csv(f\"{path}/notes2diagnosis-icd-{mode}.csv\")\n",
    "        df = df[[\"TEXT\", \"ICD9_CODE\"]]\n",
    "        \n",
    "        # get the top N codes based on frequency in train data\n",
    "        if mode == \"train\":\n",
    "                top_codes = df['ICD9_CODE'].value_counts()[:n_labels].index.tolist()         \n",
    "                print(f\"number of codes: {len(top_codes)}\")\n",
    "        # rename columns\n",
    "        df = df.rename(columns={'TEXT':'text', 'ICD9_CODE':'label'}) \n",
    "        # subset based on icd9 code being in top N\n",
    "        df = df[df['label'].isin(top_codes)]\n",
    "        df[\"text\"] = df[\"text\"].astype(str)\n",
    "        df[\"label\"] = df[\"label\"].astype(str)\n",
    "\n",
    "        \n",
    "        if save_dir is not None:    \n",
    "               \n",
    "            print(f\"Saving {mode} file at: {save_dir}/top_{n_labels}_icd9/{mode}.csv\")\n",
    "            if not os.path.exists(f\"{save_dir}/top_{n_labels}_icd9\"):\n",
    "                os.makedirs(f\"{save_dir}/top_{n_labels}_icd9\")\n",
    "\n",
    "            df.to_csv(f'{save_dir}/top_{n_labels}_icd9/{mode}.csv', index= None)\n",
    "        # assign to dataset\n",
    "        dataset[mode] = df\n",
    "    return dataset"
   ]
  },
  {
   "cell_type": "code",
   "execution_count": 4,
   "id": "c0e9804b",
   "metadata": {},
   "outputs": [
    {
     "name": "stderr",
     "output_type": "stream",
     "text": [
      "\r",
      "  0%|          | 0/3 [00:00<?, ?it/s]"
     ]
    },
    {
     "name": "stdout",
     "output_type": "stream",
     "text": [
      "number of codes: 50\n",
      "Saving train file at: ../data/intermediary-data/top_50_icd9/train.csv\n"
     ]
    },
    {
     "name": "stderr",
     "output_type": "stream",
     "text": [
      "\r",
      " 33%|███▎      | 1/3 [00:03<00:06,  3.50s/it]"
     ]
    },
    {
     "name": "stdout",
     "output_type": "stream",
     "text": [
      "Saving validate file at: ../data/intermediary-data/top_50_icd9/validate.csv\n"
     ]
    },
    {
     "name": "stderr",
     "output_type": "stream",
     "text": [
      "\r",
      " 67%|██████▋   | 2/3 [00:04<00:02,  2.07s/it]"
     ]
    },
    {
     "name": "stdout",
     "output_type": "stream",
     "text": [
      "Saving test file at: ../data/intermediary-data/top_50_icd9/test.csv\n"
     ]
    },
    {
     "name": "stderr",
     "output_type": "stream",
     "text": [
      "100%|██████████| 3/3 [00:05<00:00,  1.90s/it]\n"
     ]
    }
   ],
   "source": [
    "# now test this function\n",
    "\n",
    "top30_train = get_topN_mimic_data(path = \"../data/intermediary-data/\", save_dir =None , n_labels=50)\n",
    "# top50_train"
   ]
  },
  {
   "cell_type": "code",
   "execution_count": 6,
   "id": "651b99d1",
   "metadata": {},
   "outputs": [],
   "source": [
    "icd9_grouped = pd.read_csv(f\"{data_dir}/triage/top_20_icd9_w_counts_descriptions_grouped.csv\", index_col=None)"
   ]
  },
  {
   "cell_type": "code",
   "execution_count": 7,
   "id": "fb362e75",
   "metadata": {},
   "outputs": [
    {
     "data": {
      "text/html": [
       "<div>\n",
       "<style scoped>\n",
       "    .dataframe tbody tr th:only-of-type {\n",
       "        vertical-align: middle;\n",
       "    }\n",
       "\n",
       "    .dataframe tbody tr th {\n",
       "        vertical-align: top;\n",
       "    }\n",
       "\n",
       "    .dataframe thead th {\n",
       "        text-align: right;\n",
       "    }\n",
       "</style>\n",
       "<table border=\"1\" class=\"dataframe\">\n",
       "  <thead>\n",
       "    <tr style=\"text-align: right;\">\n",
       "      <th></th>\n",
       "      <th>icd9_code</th>\n",
       "      <th>count</th>\n",
       "      <th>description</th>\n",
       "      <th>Triage (post-ICU) Category</th>\n",
       "    </tr>\n",
       "  </thead>\n",
       "  <tbody>\n",
       "    <tr>\n",
       "      <th>0</th>\n",
       "      <td>41401</td>\n",
       "      <td>2118</td>\n",
       "      <td>Crnry athrscl natve vssl,Coronary atherosclero...</td>\n",
       "      <td>Cardiology</td>\n",
       "    </tr>\n",
       "    <tr>\n",
       "      <th>1</th>\n",
       "      <td>389</td>\n",
       "      <td>1043</td>\n",
       "      <td>Septicemia NOS,Unspecified septicemia</td>\n",
       "      <td>AcuteMedicine</td>\n",
       "    </tr>\n",
       "    <tr>\n",
       "      <th>2</th>\n",
       "      <td>41071</td>\n",
       "      <td>988</td>\n",
       "      <td>Subendo infarct, initial,Subendocardial infarc...</td>\n",
       "      <td>Cardiology</td>\n",
       "    </tr>\n",
       "    <tr>\n",
       "      <th>3</th>\n",
       "      <td>V3001</td>\n",
       "      <td>786</td>\n",
       "      <td>Single lb in-hosp w cs,Single liveborn, born i...</td>\n",
       "      <td>Obstetrics</td>\n",
       "    </tr>\n",
       "    <tr>\n",
       "      <th>4</th>\n",
       "      <td>4241</td>\n",
       "      <td>711</td>\n",
       "      <td>Aortic valve disorder,Aortic valve disorders</td>\n",
       "      <td>Cardiology</td>\n",
       "    </tr>\n",
       "    <tr>\n",
       "      <th>5</th>\n",
       "      <td>51881</td>\n",
       "      <td>613</td>\n",
       "      <td>Acute respiratry failure,Acute respiratory fai...</td>\n",
       "      <td>Respiratory</td>\n",
       "    </tr>\n",
       "    <tr>\n",
       "      <th>6</th>\n",
       "      <td>V3000</td>\n",
       "      <td>520</td>\n",
       "      <td>Single lb in-hosp w/o cs,Single liveborn, born...</td>\n",
       "      <td>Obstetrics</td>\n",
       "    </tr>\n",
       "    <tr>\n",
       "      <th>7</th>\n",
       "      <td>V3101</td>\n",
       "      <td>482</td>\n",
       "      <td>Twin-mate lb-in hos w cs,Twin birth, mate live...</td>\n",
       "      <td>Obstetrics</td>\n",
       "    </tr>\n",
       "    <tr>\n",
       "      <th>8</th>\n",
       "      <td>431</td>\n",
       "      <td>460</td>\n",
       "      <td>Intracerebral hemorrhage,None</td>\n",
       "      <td>Neurology</td>\n",
       "    </tr>\n",
       "    <tr>\n",
       "      <th>9</th>\n",
       "      <td>4240</td>\n",
       "      <td>323</td>\n",
       "      <td>Mitral valve disorder,Mitral valve disorders</td>\n",
       "      <td>Cardiology</td>\n",
       "    </tr>\n",
       "    <tr>\n",
       "      <th>10</th>\n",
       "      <td>486</td>\n",
       "      <td>312</td>\n",
       "      <td>Pneumonia, organism unspecified,None</td>\n",
       "      <td>Respiratory</td>\n",
       "    </tr>\n",
       "    <tr>\n",
       "      <th>11</th>\n",
       "      <td>5070</td>\n",
       "      <td>294</td>\n",
       "      <td>Food/vomit pneumonitis,Pneumonitis due to inha...</td>\n",
       "      <td>Respiratory</td>\n",
       "    </tr>\n",
       "    <tr>\n",
       "      <th>12</th>\n",
       "      <td>430</td>\n",
       "      <td>284</td>\n",
       "      <td>Subarachnoid hemorrhage,None</td>\n",
       "      <td>Neurology</td>\n",
       "    </tr>\n",
       "    <tr>\n",
       "      <th>13</th>\n",
       "      <td>4280</td>\n",
       "      <td>283</td>\n",
       "      <td>CHF NOS,Congestive heart failure, unspecified</td>\n",
       "      <td>Cardiology</td>\n",
       "    </tr>\n",
       "    <tr>\n",
       "      <th>14</th>\n",
       "      <td>41011</td>\n",
       "      <td>281</td>\n",
       "      <td>AMI anterior wall, init,Acute myocardial infar...</td>\n",
       "      <td>Cardiology</td>\n",
       "    </tr>\n",
       "    <tr>\n",
       "      <th>15</th>\n",
       "      <td>41041</td>\n",
       "      <td>277</td>\n",
       "      <td>AMI inferior wall, init,Acute myocardial infar...</td>\n",
       "      <td>Cardiology</td>\n",
       "    </tr>\n",
       "    <tr>\n",
       "      <th>16</th>\n",
       "      <td>5789</td>\n",
       "      <td>224</td>\n",
       "      <td>Gastrointest hemorr NOS,Hemorrhage of gastroin...</td>\n",
       "      <td>Gastroenterology</td>\n",
       "    </tr>\n",
       "    <tr>\n",
       "      <th>17</th>\n",
       "      <td>5849</td>\n",
       "      <td>213</td>\n",
       "      <td>Acute kidney failure NOS,Acute kidney failure,...</td>\n",
       "      <td>AcuteMedicine</td>\n",
       "    </tr>\n",
       "    <tr>\n",
       "      <th>18</th>\n",
       "      <td>1983</td>\n",
       "      <td>197</td>\n",
       "      <td>Sec mal neo brain/spine,Secondary malignant ne...</td>\n",
       "      <td>Oncology</td>\n",
       "    </tr>\n",
       "    <tr>\n",
       "      <th>19</th>\n",
       "      <td>5770</td>\n",
       "      <td>193</td>\n",
       "      <td>Acute pancreatitis,Acute pancreatitis</td>\n",
       "      <td>Gastroenterology</td>\n",
       "    </tr>\n",
       "  </tbody>\n",
       "</table>\n",
       "</div>"
      ],
      "text/plain": [
       "   icd9_code  count                                        description  \\\n",
       "0      41401   2118  Crnry athrscl natve vssl,Coronary atherosclero...   \n",
       "1        389   1043              Septicemia NOS,Unspecified septicemia   \n",
       "2      41071    988  Subendo infarct, initial,Subendocardial infarc...   \n",
       "3      V3001    786  Single lb in-hosp w cs,Single liveborn, born i...   \n",
       "4       4241    711       Aortic valve disorder,Aortic valve disorders   \n",
       "5      51881    613  Acute respiratry failure,Acute respiratory fai...   \n",
       "6      V3000    520  Single lb in-hosp w/o cs,Single liveborn, born...   \n",
       "7      V3101    482  Twin-mate lb-in hos w cs,Twin birth, mate live...   \n",
       "8        431    460                      Intracerebral hemorrhage,None   \n",
       "9       4240    323       Mitral valve disorder,Mitral valve disorders   \n",
       "10       486    312               Pneumonia, organism unspecified,None   \n",
       "11      5070    294  Food/vomit pneumonitis,Pneumonitis due to inha...   \n",
       "12       430    284                       Subarachnoid hemorrhage,None   \n",
       "13      4280    283      CHF NOS,Congestive heart failure, unspecified   \n",
       "14     41011    281  AMI anterior wall, init,Acute myocardial infar...   \n",
       "15     41041    277  AMI inferior wall, init,Acute myocardial infar...   \n",
       "16      5789    224  Gastrointest hemorr NOS,Hemorrhage of gastroin...   \n",
       "17      5849    213  Acute kidney failure NOS,Acute kidney failure,...   \n",
       "18      1983    197  Sec mal neo brain/spine,Secondary malignant ne...   \n",
       "19      5770    193              Acute pancreatitis,Acute pancreatitis   \n",
       "\n",
       "   Triage (post-ICU) Category  \n",
       "0                  Cardiology  \n",
       "1               AcuteMedicine  \n",
       "2                  Cardiology  \n",
       "3                  Obstetrics  \n",
       "4                  Cardiology  \n",
       "5                 Respiratory  \n",
       "6                  Obstetrics  \n",
       "7                  Obstetrics  \n",
       "8                   Neurology  \n",
       "9                  Cardiology  \n",
       "10                Respiratory  \n",
       "11                Respiratory  \n",
       "12                  Neurology  \n",
       "13                 Cardiology  \n",
       "14                 Cardiology  \n",
       "15                 Cardiology  \n",
       "16           Gastroenterology  \n",
       "17              AcuteMedicine  \n",
       "18                   Oncology  \n",
       "19           Gastroenterology  "
      ]
     },
     "execution_count": 7,
     "metadata": {},
     "output_type": "execute_result"
    }
   ],
   "source": [
    "icd9_grouped"
   ]
  },
  {
   "cell_type": "code",
   "execution_count": 16,
   "id": "34717455",
   "metadata": {},
   "outputs": [
    {
     "data": {
      "text/plain": [
       "['41401',\n",
       " '389',\n",
       " '41071',\n",
       " 'V3001',\n",
       " '4241',\n",
       " '51881',\n",
       " 'V3000',\n",
       " 'V3101',\n",
       " '431',\n",
       " '4240',\n",
       " '486',\n",
       " '5070',\n",
       " '430',\n",
       " '4280',\n",
       " '41011',\n",
       " '41041',\n",
       " '5789',\n",
       " '5849',\n",
       " '1983',\n",
       " '5770']"
      ]
     },
     "execution_count": 16,
     "metadata": {},
     "output_type": "execute_result"
    }
   ],
   "source": [
    "# get set of icd9_codes\n",
    "\n",
    "icd9_codes_list = icd9_grouped[\"icd9_code\"].values.tolist()\n",
    "icd9_codes_list"
   ]
  },
  {
   "cell_type": "code",
   "execution_count": 8,
   "id": "91194b27",
   "metadata": {},
   "outputs": [],
   "source": [
    "# now lets subset the training/test datasets based on these groupings\n",
    "\n",
    "train_data = pd.read_csv(f\"{data_dir}/train.csv\", index_col=None)\n",
    "valid_data = pd.read_csv(f\"{data_dir}/valid.csv\", index_col=None)\n",
    "test_data = pd.read_csv(f\"{data_dir}/test.csv\", index_col=None)"
   ]
  },
  {
   "cell_type": "code",
   "execution_count": 11,
   "id": "dd2d9a15",
   "metadata": {},
   "outputs": [
    {
     "data": {
      "text/html": [
       "<div>\n",
       "<style scoped>\n",
       "    .dataframe tbody tr th:only-of-type {\n",
       "        vertical-align: middle;\n",
       "    }\n",
       "\n",
       "    .dataframe tbody tr th {\n",
       "        vertical-align: top;\n",
       "    }\n",
       "\n",
       "    .dataframe thead th {\n",
       "        text-align: right;\n",
       "    }\n",
       "</style>\n",
       "<table border=\"1\" class=\"dataframe\">\n",
       "  <thead>\n",
       "    <tr style=\"text-align: right;\">\n",
       "      <th></th>\n",
       "      <th>Unnamed: 0</th>\n",
       "      <th>text</th>\n",
       "      <th>label</th>\n",
       "    </tr>\n",
       "  </thead>\n",
       "  <tbody>\n",
       "    <tr>\n",
       "      <th>0</th>\n",
       "      <td>1</td>\n",
       "      <td>: : : Sex: F Service: CARDIOTHORACIC Allergies...</td>\n",
       "      <td>4240</td>\n",
       "    </tr>\n",
       "    <tr>\n",
       "      <th>1</th>\n",
       "      <td>3</td>\n",
       "      <td>: : : Sex: F Service: NEONATOLOGY HISTORY: wee...</td>\n",
       "      <td>V3001</td>\n",
       "    </tr>\n",
       "    <tr>\n",
       "      <th>2</th>\n",
       "      <td>6</td>\n",
       "      <td>: : : Sex: M Service: CARDIOTHORACIC Allergies...</td>\n",
       "      <td>41041</td>\n",
       "    </tr>\n",
       "    <tr>\n",
       "      <th>3</th>\n",
       "      <td>7</td>\n",
       "      <td>: : : Sex: F Service: MEDICINE Allergies: Peni...</td>\n",
       "      <td>51881</td>\n",
       "    </tr>\n",
       "    <tr>\n",
       "      <th>4</th>\n",
       "      <td>8</td>\n",
       "      <td>: : : Sex: F Service: CARDIOTHORACIC Allergies...</td>\n",
       "      <td>3962</td>\n",
       "    </tr>\n",
       "  </tbody>\n",
       "</table>\n",
       "</div>"
      ],
      "text/plain": [
       "   Unnamed: 0                                               text  label\n",
       "0           1  : : : Sex: F Service: CARDIOTHORACIC Allergies...   4240\n",
       "1           3  : : : Sex: F Service: NEONATOLOGY HISTORY: wee...  V3001\n",
       "2           6  : : : Sex: M Service: CARDIOTHORACIC Allergies...  41041\n",
       "3           7  : : : Sex: F Service: MEDICINE Allergies: Peni...  51881\n",
       "4           8  : : : Sex: F Service: CARDIOTHORACIC Allergies...   3962"
      ]
     },
     "execution_count": 11,
     "metadata": {},
     "output_type": "execute_result"
    }
   ],
   "source": [
    "train_data.head()"
   ]
  },
  {
   "cell_type": "code",
   "execution_count": 23,
   "id": "4cdaa7e9",
   "metadata": {},
   "outputs": [],
   "source": [
    "train_top20 = train_data[train_data[\"label\"].isin(icd9_codes_list)]"
   ]
  },
  {
   "cell_type": "code",
   "execution_count": 20,
   "id": "da532589",
   "metadata": {},
   "outputs": [
    {
     "data": {
      "text/html": [
       "<div>\n",
       "<style scoped>\n",
       "    .dataframe tbody tr th:only-of-type {\n",
       "        vertical-align: middle;\n",
       "    }\n",
       "\n",
       "    .dataframe tbody tr th {\n",
       "        vertical-align: top;\n",
       "    }\n",
       "\n",
       "    .dataframe thead th {\n",
       "        text-align: right;\n",
       "    }\n",
       "</style>\n",
       "<table border=\"1\" class=\"dataframe\">\n",
       "  <thead>\n",
       "    <tr style=\"text-align: right;\">\n",
       "      <th></th>\n",
       "      <th>icd9_code</th>\n",
       "      <th>count</th>\n",
       "      <th>description</th>\n",
       "      <th>Triage (post-ICU) Category</th>\n",
       "    </tr>\n",
       "  </thead>\n",
       "  <tbody>\n",
       "    <tr>\n",
       "      <th>0</th>\n",
       "      <td>41401</td>\n",
       "      <td>2118</td>\n",
       "      <td>Crnry athrscl natve vssl,Coronary atherosclero...</td>\n",
       "      <td>Cardiology</td>\n",
       "    </tr>\n",
       "    <tr>\n",
       "      <th>1</th>\n",
       "      <td>389</td>\n",
       "      <td>1043</td>\n",
       "      <td>Septicemia NOS,Unspecified septicemia</td>\n",
       "      <td>AcuteMedicine</td>\n",
       "    </tr>\n",
       "    <tr>\n",
       "      <th>2</th>\n",
       "      <td>41071</td>\n",
       "      <td>988</td>\n",
       "      <td>Subendo infarct, initial,Subendocardial infarc...</td>\n",
       "      <td>Cardiology</td>\n",
       "    </tr>\n",
       "    <tr>\n",
       "      <th>3</th>\n",
       "      <td>V3001</td>\n",
       "      <td>786</td>\n",
       "      <td>Single lb in-hosp w cs,Single liveborn, born i...</td>\n",
       "      <td>Obstetrics</td>\n",
       "    </tr>\n",
       "    <tr>\n",
       "      <th>4</th>\n",
       "      <td>4241</td>\n",
       "      <td>711</td>\n",
       "      <td>Aortic valve disorder,Aortic valve disorders</td>\n",
       "      <td>Cardiology</td>\n",
       "    </tr>\n",
       "  </tbody>\n",
       "</table>\n",
       "</div>"
      ],
      "text/plain": [
       "  icd9_code  count                                        description  \\\n",
       "0     41401   2118  Crnry athrscl natve vssl,Coronary atherosclero...   \n",
       "1       389   1043              Septicemia NOS,Unspecified septicemia   \n",
       "2     41071    988  Subendo infarct, initial,Subendocardial infarc...   \n",
       "3     V3001    786  Single lb in-hosp w cs,Single liveborn, born i...   \n",
       "4      4241    711       Aortic valve disorder,Aortic valve disorders   \n",
       "\n",
       "  Triage (post-ICU) Category  \n",
       "0                 Cardiology  \n",
       "1              AcuteMedicine  \n",
       "2                 Cardiology  \n",
       "3                 Obstetrics  \n",
       "4                 Cardiology  "
      ]
     },
     "execution_count": 20,
     "metadata": {},
     "output_type": "execute_result"
    }
   ],
   "source": [
    "icd9_grouped.head()"
   ]
  },
  {
   "cell_type": "code",
   "execution_count": 21,
   "id": "2051759a",
   "metadata": {},
   "outputs": [],
   "source": [
    "# we want to create a dictionary mapping code to category\n",
    "\n",
    "mapping = {}\n",
    "for i,row in icd9_grouped.iterrows():\n",
    "    code = row['icd9_code']\n",
    "    category = row['Triage (post-ICU) Category']\n",
    "    \n",
    "    mapping[code] = category"
   ]
  },
  {
   "cell_type": "code",
   "execution_count": 22,
   "id": "1822c29e",
   "metadata": {},
   "outputs": [
    {
     "data": {
      "text/plain": [
       "{'41401': 'Cardiology',\n",
       " '389': 'AcuteMedicine',\n",
       " '41071': 'Cardiology',\n",
       " 'V3001': 'Obstetrics',\n",
       " '4241': 'Cardiology',\n",
       " '51881': 'Respiratory',\n",
       " 'V3000': 'Obstetrics',\n",
       " 'V3101': 'Obstetrics',\n",
       " '431': 'Neurology',\n",
       " '4240': 'Cardiology',\n",
       " '486': 'Respiratory',\n",
       " '5070': 'Respiratory',\n",
       " '430': 'Neurology',\n",
       " '4280': 'Cardiology',\n",
       " '41011': 'Cardiology',\n",
       " '41041': 'Cardiology',\n",
       " '5789': 'Gastroenterology',\n",
       " '5849': 'AcuteMedicine',\n",
       " '1983': 'Oncology',\n",
       " '5770': 'Gastroenterology'}"
      ]
     },
     "execution_count": 22,
     "metadata": {},
     "output_type": "execute_result"
    }
   ],
   "source": [
    "mapping"
   ]
  },
  {
   "cell_type": "code",
   "execution_count": 24,
   "id": "1eb29699",
   "metadata": {},
   "outputs": [
    {
     "name": "stderr",
     "output_type": "stream",
     "text": [
      "/home/niallt/venvs/nlp_projects/lib/python3.6/site-packages/ipykernel_launcher.py:1: SettingWithCopyWarning: \n",
      "A value is trying to be set on a copy of a slice from a DataFrame.\n",
      "Try using .loc[row_indexer,col_indexer] = value instead\n",
      "\n",
      "See the caveats in the documentation: https://pandas.pydata.org/pandas-docs/stable/user_guide/indexing.html#returning-a-view-versus-a-copy\n",
      "  \"\"\"Entry point for launching an IPython kernel.\n"
     ]
    }
   ],
   "source": [
    "train_top20[\"category\"] = train_top20[\"label\"].map(mapping)"
   ]
  },
  {
   "cell_type": "code",
   "execution_count": 27,
   "id": "18b47544",
   "metadata": {},
   "outputs": [
    {
     "data": {
      "text/html": [
       "<div>\n",
       "<style scoped>\n",
       "    .dataframe tbody tr th:only-of-type {\n",
       "        vertical-align: middle;\n",
       "    }\n",
       "\n",
       "    .dataframe tbody tr th {\n",
       "        vertical-align: top;\n",
       "    }\n",
       "\n",
       "    .dataframe thead th {\n",
       "        text-align: right;\n",
       "    }\n",
       "</style>\n",
       "<table border=\"1\" class=\"dataframe\">\n",
       "  <thead>\n",
       "    <tr style=\"text-align: right;\">\n",
       "      <th></th>\n",
       "      <th>text</th>\n",
       "      <th>label</th>\n",
       "      <th>category</th>\n",
       "    </tr>\n",
       "  </thead>\n",
       "  <tbody>\n",
       "    <tr>\n",
       "      <th>0</th>\n",
       "      <td>: : : Sex: F Service: CARDIOTHORACIC Allergies...</td>\n",
       "      <td>4240</td>\n",
       "      <td>Cardiology</td>\n",
       "    </tr>\n",
       "    <tr>\n",
       "      <th>1</th>\n",
       "      <td>: : : Sex: F Service: NEONATOLOGY HISTORY: wee...</td>\n",
       "      <td>V3001</td>\n",
       "      <td>Obstetrics</td>\n",
       "    </tr>\n",
       "    <tr>\n",
       "      <th>2</th>\n",
       "      <td>: : : Sex: M Service: CARDIOTHORACIC Allergies...</td>\n",
       "      <td>41041</td>\n",
       "      <td>Cardiology</td>\n",
       "    </tr>\n",
       "    <tr>\n",
       "      <th>3</th>\n",
       "      <td>: : : Sex: F Service: MEDICINE Allergies: Peni...</td>\n",
       "      <td>51881</td>\n",
       "      <td>Respiratory</td>\n",
       "    </tr>\n",
       "    <tr>\n",
       "      <th>6</th>\n",
       "      <td>: : : Sex: M Service: ADMISSION DIAGNOSIS: . S...</td>\n",
       "      <td>41401</td>\n",
       "      <td>Cardiology</td>\n",
       "    </tr>\n",
       "    <tr>\n",
       "      <th>...</th>\n",
       "      <td>...</td>\n",
       "      <td>...</td>\n",
       "      <td>...</td>\n",
       "    </tr>\n",
       "    <tr>\n",
       "      <th>14352</th>\n",
       "      <td>: : : Sex: F Service: MEDICINE Allergies: Pati...</td>\n",
       "      <td>5849</td>\n",
       "      <td>AcuteMedicine</td>\n",
       "    </tr>\n",
       "    <tr>\n",
       "      <th>14353</th>\n",
       "      <td>: : : Sex: F Service: MEDICINE Allergies: Peni...</td>\n",
       "      <td>486</td>\n",
       "      <td>Respiratory</td>\n",
       "    </tr>\n",
       "    <tr>\n",
       "      <th>14354</th>\n",
       "      <td>Unit No: : : : Sex: F Service: Neonatology was...</td>\n",
       "      <td>V3001</td>\n",
       "      <td>Obstetrics</td>\n",
       "    </tr>\n",
       "    <tr>\n",
       "      <th>14357</th>\n",
       "      <td>: : Service: CARDIOTHORACIC Allergies: Penicil...</td>\n",
       "      <td>41071</td>\n",
       "      <td>Cardiology</td>\n",
       "    </tr>\n",
       "    <tr>\n",
       "      <th>14358</th>\n",
       "      <td>: : : Sex: M Service: Neonatology HISTORY OF P...</td>\n",
       "      <td>V3001</td>\n",
       "      <td>Obstetrics</td>\n",
       "    </tr>\n",
       "  </tbody>\n",
       "</table>\n",
       "<p>9559 rows × 3 columns</p>\n",
       "</div>"
      ],
      "text/plain": [
       "                                                    text  label       category\n",
       "0      : : : Sex: F Service: CARDIOTHORACIC Allergies...   4240     Cardiology\n",
       "1      : : : Sex: F Service: NEONATOLOGY HISTORY: wee...  V3001     Obstetrics\n",
       "2      : : : Sex: M Service: CARDIOTHORACIC Allergies...  41041     Cardiology\n",
       "3      : : : Sex: F Service: MEDICINE Allergies: Peni...  51881    Respiratory\n",
       "6      : : : Sex: M Service: ADMISSION DIAGNOSIS: . S...  41401     Cardiology\n",
       "...                                                  ...    ...            ...\n",
       "14352  : : : Sex: F Service: MEDICINE Allergies: Pati...   5849  AcuteMedicine\n",
       "14353  : : : Sex: F Service: MEDICINE Allergies: Peni...    486    Respiratory\n",
       "14354  Unit No: : : : Sex: F Service: Neonatology was...  V3001     Obstetrics\n",
       "14357  : : Service: CARDIOTHORACIC Allergies: Penicil...  41071     Cardiology\n",
       "14358  : : : Sex: M Service: Neonatology HISTORY OF P...  V3001     Obstetrics\n",
       "\n",
       "[9559 rows x 3 columns]"
      ]
     },
     "execution_count": 27,
     "metadata": {},
     "output_type": "execute_result"
    }
   ],
   "source": [
    "train_top20.drop(columns=[\"Unnamed: 0\"])"
   ]
  },
  {
   "cell_type": "code",
   "execution_count": 3,
   "id": "d4d4a24c",
   "metadata": {},
   "outputs": [],
   "source": [
    "# make a lil function to extract the data for top 20 icd codes and attach the new labels/descriptions\n",
    "\n",
    "def subset_data(df, icd9_data):\n",
    "    #extract icd9 codes to list\n",
    "    icd9_codes = icd9_data[\"icd9_code\"].values.tolist()\n",
    "    \n",
    "    #subset data based on whether the code is in the desired list\n",
    "    df_subset = df[df[\"label\"].isin(icd9_codes)].copy()\n",
    "    \n",
    "    # get mappping dictionary for code -> triage category\n",
    "    cat_map = map_codes(icd9_data)\n",
    "    \n",
    "    # create a new column with that mapping of ic9_code/label to triage category\n",
    "    df_subset[\"triage-category\"] = df_subset[\"label\"].map(cat_map)\n",
    "    \n",
    "    # data has annoying unnamed column to drop\n",
    "    try:\n",
    "        df_subset.drop(columns=[\"Unnamed: 0\"], inplace = True)\n",
    "    except:\n",
    "        print(\"no unnamed col to drop\")\n",
    "\n",
    "    return df_subset\n",
    "    \n",
    "    \n",
    "def map_codes(icd9_data):\n",
    "    \n",
    "    '''\n",
    "    Function to map icd9_code to triage category\n",
    "    '''\n",
    "    mapping = {}\n",
    "    for i,row in icd9_data.iterrows():\n",
    "        code = row['icd9_code']\n",
    "        category = row['Triage (post-ICU) Category']\n",
    "\n",
    "        mapping[code] = category\n",
    "        \n",
    "    return mapping\n",
    "\n",
    "\n",
    "def data_processor(data_dir, icd9_path, modes=[\"train\",\"valid\",\"test\"] ,save_dir = \"../data/intermediary-data/triage/\"):\n",
    "    \n",
    "    # get the icd9 data\n",
    "    icd9_data = pd.read_csv(f\"{data_dir}/{icd9_path}\", index_col=None)\n",
    "    \n",
    "#     print(icd9_data)\n",
    "    \n",
    "    # can create a dataset to return\n",
    "    dataset = {}\n",
    "    #run through each provided data mode or set i.e. train/valid/test files   \n",
    "    for mode in tqdm(modes):\n",
    "        df = pd.read_csv(f\"{data_dir}/top_50_icd9/{mode}.csv\", index_col=None)\n",
    "        df_with_cat = subset_data(df, icd9_data = icd9_data)\n",
    "\n",
    "        if save_dir is not None:\n",
    "            print(f\"Saving {mode} file at: {save_dir}/{mode}\")\n",
    "            if not os.path.exists(save_dir):\n",
    "                os.makedirs(save_dir)\n",
    "            df_with_cat.to_csv(f\"{save_dir}/{mode}.csv\", index = None)\n",
    "            \n",
    "        dataset[mode] = df_with_cat\n",
    "        \n",
    "    return dataset"
   ]
  },
  {
   "cell_type": "code",
   "execution_count": 4,
   "id": "e68a3c47",
   "metadata": {},
   "outputs": [
    {
     "name": "stderr",
     "output_type": "stream",
     "text": [
      " 33%|███▎      | 1/3 [00:00<00:01,  1.26it/s]"
     ]
    },
    {
     "name": "stdout",
     "output_type": "stream",
     "text": [
      "no unnamed col to drop\n"
     ]
    },
    {
     "name": "stderr",
     "output_type": "stream",
     "text": [
      "100%|██████████| 3/3 [00:01<00:00,  2.36it/s]"
     ]
    },
    {
     "name": "stdout",
     "output_type": "stream",
     "text": [
      "no unnamed col to drop\n"
     ]
    },
    {
     "name": "stderr",
     "output_type": "stream",
     "text": [
      "\n"
     ]
    }
   ],
   "source": [
    "new_train_data = data_processor(data_dir = f\"{data_dir}\", icd9_path = f\"/triage/top_20_icd9_w_counts_descriptions_grouped.csv\", save_dir = None)"
   ]
  },
  {
   "cell_type": "code",
   "execution_count": 15,
   "id": "cbe9d04d",
   "metadata": {},
   "outputs": [
    {
     "data": {
      "text/plain": [
       "'../data/intermediary-data/'"
      ]
     },
     "execution_count": 15,
     "metadata": {},
     "output_type": "execute_result"
    }
   ],
   "source": [
    "data_dir"
   ]
  },
  {
   "cell_type": "code",
   "execution_count": 7,
   "id": "239b1f0d",
   "metadata": {},
   "outputs": [
    {
     "data": {
      "text/html": [
       "<div>\n",
       "<style scoped>\n",
       "    .dataframe tbody tr th:only-of-type {\n",
       "        vertical-align: middle;\n",
       "    }\n",
       "\n",
       "    .dataframe tbody tr th {\n",
       "        vertical-align: top;\n",
       "    }\n",
       "\n",
       "    .dataframe thead th {\n",
       "        text-align: right;\n",
       "    }\n",
       "</style>\n",
       "<table border=\"1\" class=\"dataframe\">\n",
       "  <thead>\n",
       "    <tr style=\"text-align: right;\">\n",
       "      <th></th>\n",
       "      <th>text</th>\n",
       "      <th>label</th>\n",
       "      <th>triage-category</th>\n",
       "    </tr>\n",
       "  </thead>\n",
       "  <tbody>\n",
       "    <tr>\n",
       "      <th>0</th>\n",
       "      <td>: : : Sex: F Service: CARDIOTHORACIC Allergies...</td>\n",
       "      <td>4240</td>\n",
       "      <td>Cardiology</td>\n",
       "    </tr>\n",
       "    <tr>\n",
       "      <th>1</th>\n",
       "      <td>: : : Sex: F Service: NEONATOLOGY HISTORY: wee...</td>\n",
       "      <td>V3001</td>\n",
       "      <td>Obstetrics</td>\n",
       "    </tr>\n",
       "    <tr>\n",
       "      <th>2</th>\n",
       "      <td>: : : Sex: M Service: CARDIOTHORACIC Allergies...</td>\n",
       "      <td>41041</td>\n",
       "      <td>Cardiology</td>\n",
       "    </tr>\n",
       "    <tr>\n",
       "      <th>3</th>\n",
       "      <td>: : : Sex: F Service: MEDICINE Allergies: Peni...</td>\n",
       "      <td>51881</td>\n",
       "      <td>Respiratory</td>\n",
       "    </tr>\n",
       "    <tr>\n",
       "      <th>6</th>\n",
       "      <td>: : : Sex: M Service: ADMISSION DIAGNOSIS: . S...</td>\n",
       "      <td>41401</td>\n",
       "      <td>Cardiology</td>\n",
       "    </tr>\n",
       "    <tr>\n",
       "      <th>...</th>\n",
       "      <td>...</td>\n",
       "      <td>...</td>\n",
       "      <td>...</td>\n",
       "    </tr>\n",
       "    <tr>\n",
       "      <th>14352</th>\n",
       "      <td>: : : Sex: F Service: MEDICINE Allergies: Pati...</td>\n",
       "      <td>5849</td>\n",
       "      <td>AcuteMedicine</td>\n",
       "    </tr>\n",
       "    <tr>\n",
       "      <th>14353</th>\n",
       "      <td>: : : Sex: F Service: MEDICINE Allergies: Peni...</td>\n",
       "      <td>486</td>\n",
       "      <td>Respiratory</td>\n",
       "    </tr>\n",
       "    <tr>\n",
       "      <th>14354</th>\n",
       "      <td>Unit No: : : : Sex: F Service: Neonatology was...</td>\n",
       "      <td>V3001</td>\n",
       "      <td>Obstetrics</td>\n",
       "    </tr>\n",
       "    <tr>\n",
       "      <th>14357</th>\n",
       "      <td>: : Service: CARDIOTHORACIC Allergies: Penicil...</td>\n",
       "      <td>41071</td>\n",
       "      <td>Cardiology</td>\n",
       "    </tr>\n",
       "    <tr>\n",
       "      <th>14358</th>\n",
       "      <td>: : : Sex: M Service: Neonatology HISTORY OF P...</td>\n",
       "      <td>V3001</td>\n",
       "      <td>Obstetrics</td>\n",
       "    </tr>\n",
       "  </tbody>\n",
       "</table>\n",
       "<p>9559 rows × 3 columns</p>\n",
       "</div>"
      ],
      "text/plain": [
       "                                                    text  label  \\\n",
       "0      : : : Sex: F Service: CARDIOTHORACIC Allergies...   4240   \n",
       "1      : : : Sex: F Service: NEONATOLOGY HISTORY: wee...  V3001   \n",
       "2      : : : Sex: M Service: CARDIOTHORACIC Allergies...  41041   \n",
       "3      : : : Sex: F Service: MEDICINE Allergies: Peni...  51881   \n",
       "6      : : : Sex: M Service: ADMISSION DIAGNOSIS: . S...  41401   \n",
       "...                                                  ...    ...   \n",
       "14352  : : : Sex: F Service: MEDICINE Allergies: Pati...   5849   \n",
       "14353  : : : Sex: F Service: MEDICINE Allergies: Peni...    486   \n",
       "14354  Unit No: : : : Sex: F Service: Neonatology was...  V3001   \n",
       "14357  : : Service: CARDIOTHORACIC Allergies: Penicil...  41071   \n",
       "14358  : : : Sex: M Service: Neonatology HISTORY OF P...  V3001   \n",
       "\n",
       "      triage-category  \n",
       "0          Cardiology  \n",
       "1          Obstetrics  \n",
       "2          Cardiology  \n",
       "3         Respiratory  \n",
       "6          Cardiology  \n",
       "...               ...  \n",
       "14352   AcuteMedicine  \n",
       "14353     Respiratory  \n",
       "14354      Obstetrics  \n",
       "14357      Cardiology  \n",
       "14358      Obstetrics  \n",
       "\n",
       "[9559 rows x 3 columns]"
      ]
     },
     "execution_count": 7,
     "metadata": {},
     "output_type": "execute_result"
    }
   ],
   "source": [
    "new_train_data['train']"
   ]
  },
  {
   "cell_type": "code",
   "execution_count": 9,
   "id": "4faaee54",
   "metadata": {},
   "outputs": [
    {
     "data": {
      "text/plain": [
       "<AxesSubplot:>"
      ]
     },
     "execution_count": 9,
     "metadata": {},
     "output_type": "execute_result"
    },
    {
     "data": {
      "image/png": "[encoded data removed]",
      "text/plain": [
       "<Figure size 432x288 with 1 Axes>"
      ]
     },
     "metadata": {
      "needs_background": "light"
     },
     "output_type": "display_data"
    }
   ],
   "source": [
    "new_train_data['train'][\"triage-category\"].value_counts().plot(kind=\"bar\")"
   ]
  },
  {
   "cell_type": "code",
   "execution_count": 10,
   "id": "3caa28a9",
   "metadata": {},
   "outputs": [
    {
     "data": {
      "text/plain": [
       "<AxesSubplot:>"
      ]
     },
     "execution_count": 10,
     "metadata": {},
     "output_type": "execute_result"
    },
    {
     "data": {
      "image/png": "[encoded data removed]",
      "text/plain": [
       "<Figure size 432x288 with 1 Axes>"
      ]
     },
     "metadata": {
      "needs_background": "light"
     },
     "output_type": "display_data"
    }
   ],
   "source": [
    "new_train_data['valid'][\"triage-category\"].value_counts().plot(kind=\"bar\")"
   ]
  }
 ],
 "metadata": {
  "interpreter": {
   "hash": "31f2aee4e71d21fbe5cf8b01ff0e069b9275f58929596ceb00d14d90e3e16cd6"
  },
  "kernelspec": {
   "display_name": "Python 3",
   "language": "python",
   "name": "python3"
  },
  "language_info": {
   "codemirror_mode": {
    "name": "ipython",
    "version": 3
   },
   "file_extension": ".py",
   "mimetype": "text/x-python",
   "name": "python",
   "nbconvert_exporter": "python",
   "pygments_lexer": "ipython3",
   "version": "3.6.9"
  }
 },
 "nbformat": 4,
 "nbformat_minor": 5
}
