{
 "cells": [
  {
   "cell_type": "code",
   "execution_count": 1,
   "id": "f15a1d7b",
   "metadata": {},
   "outputs": [],
   "source": [
    "import pandas as pd\n",
    "import numpy as np\n",
    "from tqdm import tqdm\n",
    "import os"
   ]
  },
  {
   "cell_type": "code",
   "execution_count": 2,
   "id": "4c743378",
   "metadata": {},
   "outputs": [],
   "source": [
    "data_dir = \"../data/intermediary-data/\""
   ]
  },
  {
   "cell_type": "markdown",
   "id": "4a0eb83a",
   "metadata": {},
   "source": [
    "#todo\n",
    "Edit below to create "
   ]
  },
  {
   "cell_type": "code",
   "execution_count": 5,
   "id": "c5d99a35",
   "metadata": {},
   "outputs": [],
   "source": [
    "#  make a lil function to extract the data for top 20 icd codes and attach the new labels/descriptions\n",
    "\n",
    "def subset_data(df, icd9_data):\n",
    "    #extract icd9 codes to list\n",
    "    icd9_codes = icd9_data[\"icd9_code\"].values.tolist()\n",
    "    \n",
    "    #subset data based on whether the code is in the desired list\n",
    "    df_subset = df[df[\"label\"].isin(icd9_codes)].copy()\n",
    "    \n",
    "    # get mappping dictionary for code -> triage category\n",
    "    cat_map = map_codes(icd9_data)\n",
    "    \n",
    "    # create a new column with that mapping of ic9_code/label to triage category\n",
    "    df_subset[\"triage-category\"] = df_subset[\"label\"].map(cat_map)\n",
    "    \n",
    "    # data has annoying unnamed column to drop\n",
    "    try:\n",
    "        df_subset.drop(columns=[\"Unnamed: 0\"], inplace = True)\n",
    "    except:\n",
    "        print(\"no unnamed col to drop\")\n",
    "\n",
    "    return df_subset\n",
    "    \n",
    "    \n",
    "def map_codes(icd9_data):\n",
    "    \n",
    "    '''\n",
    "    Function to map icd9_code to triage category\n",
    "    '''\n",
    "    mapping = {}\n",
    "    for i,row in icd9_data.iterrows():\n",
    "        code = row['icd9_code']\n",
    "        category = row['Triage (post-ICU) Category']\n",
    "\n",
    "        mapping[code] = category\n",
    "        \n",
    "    return mapping\n",
    "\n",
    "\n",
    "def data_processor(data_dir, icd9_path, modes=[\"train\",\"valid\",\"test\"] ,save_dir = \"../data/intermediary-data/triage/\"):\n",
    "    \n",
    "    # get the icd9 data\n",
    "    icd9_data = pd.read_csv(f\"{data_dir}/{icd9_path}\", index_col=None)\n",
    "    \n",
    "#     print(icd9_data)\n",
    "    \n",
    "    # can create a dataset to return\n",
    "    dataset = {}\n",
    "    #run through each provided data mode or set i.e. train/valid/test files   \n",
    "    for mode in tqdm(modes):\n",
    "        df = pd.read_csv(f\"{data_dir}/top_50_icd9/{mode}.csv\", index_col=None)\n",
    "        df_with_cat = subset_data(df, icd9_data = icd9_data)\n",
    "\n",
    "        if save_dir is not None:\n",
    "            print(f\"Saving {mode} file at: {save_dir}/{mode}\")\n",
    "            if not os.path.exists(save_dir):\n",
    "                os.makedirs(save_dir)\n",
    "            df_with_cat.to_csv(f\"{save_dir}/{mode}.csv\", index = None)\n",
    "            \n",
    "        dataset[mode] = df_with_cat\n",
    "        \n",
    "    return dataset"
   ]
  },
  {
   "cell_type": "code",
   "execution_count": 6,
   "id": "b9ca28f9",
   "metadata": {},
   "outputs": [
    {
     "name": "stderr",
     "output_type": "stream",
     "text": [
      " 33%|███▎      | 1/3 [00:00<00:01,  1.28it/s]"
     ]
    },
    {
     "name": "stdout",
     "output_type": "stream",
     "text": [
      "no unnamed col to drop\n"
     ]
    },
    {
     "name": "stderr",
     "output_type": "stream",
     "text": [
      "100%|██████████| 3/3 [00:01<00:00,  2.38it/s]"
     ]
    },
    {
     "name": "stdout",
     "output_type": "stream",
     "text": [
      "no unnamed col to drop\n"
     ]
    },
    {
     "name": "stderr",
     "output_type": "stream",
     "text": [
      "\n"
     ]
    }
   ],
   "source": [
    "new_train_data = data_processor(data_dir = f\"{data_dir}\", icd9_path = f\"/triage/top_20_icd9_w_counts_descriptions_grouped.csv\", save_dir = None)"
   ]
  },
  {
   "cell_type": "code",
   "execution_count": 7,
   "id": "311e13ca",
   "metadata": {},
   "outputs": [
    {
     "data": {
      "text/plain": [
       "{'train':                                                     text  label  \\\n",
       " 0      : : : Sex: F Service: CARDIOTHORACIC Allergies...   4240   \n",
       " 1      : : : Sex: F Service: NEONATOLOGY HISTORY: wee...  V3001   \n",
       " 2      : : : Sex: M Service: CARDIOTHORACIC Allergies...  41041   \n",
       " 3      : : : Sex: F Service: MEDICINE Allergies: Peni...  51881   \n",
       " 6      : : : Sex: M Service: ADMISSION DIAGNOSIS: . S...  41401   \n",
       " ...                                                  ...    ...   \n",
       " 14352  : : : Sex: F Service: MEDICINE Allergies: Pati...   5849   \n",
       " 14353  : : : Sex: F Service: MEDICINE Allergies: Peni...    486   \n",
       " 14354  Unit No: : : : Sex: F Service: Neonatology was...  V3001   \n",
       " 14357  : : Service: CARDIOTHORACIC Allergies: Penicil...  41071   \n",
       " 14358  : : : Sex: M Service: Neonatology HISTORY OF P...  V3001   \n",
       " \n",
       "       triage-category  \n",
       " 0          Cardiology  \n",
       " 1          Obstetrics  \n",
       " 2          Cardiology  \n",
       " 3         Respiratory  \n",
       " 6          Cardiology  \n",
       " ...               ...  \n",
       " 14352   AcuteMedicine  \n",
       " 14353     Respiratory  \n",
       " 14354      Obstetrics  \n",
       " 14357      Cardiology  \n",
       " 14358      Obstetrics  \n",
       " \n",
       " [9559 rows x 3 columns],\n",
       " 'valid':                                                    text  label triage-category\n",
       " 0     : : : Sex: M Service: Cardiothoracic Surgery P...   4241      Cardiology\n",
       " 1     : : : Sex: M Service: NEONATOLOGY HISTORY: Bab...  V3000      Obstetrics\n",
       " 2     : : : Sex: M Service: NB DISCHARGE DIAGNOSES: ...  V3001      Obstetrics\n",
       " 3     : : : Sex: M Service: MEDICINE Allergies: Iodi...  41401      Cardiology\n",
       " 4     : : : Sex: M Service: MEDICINE HISTORY OF PRES...  41071      Cardiology\n",
       " ...                                                 ...    ...             ...\n",
       " 4687  : : : Sex: M Service: NB HISTORY OF PRESENT IL...  V3001      Obstetrics\n",
       " 4688  : : : Sex: F Service: ADDENDUM - HOSPITAL COUR...   4241      Cardiology\n",
       " 4689  Unit No: : : : Sex: M Service: NB ENTIFICATION...  V3101      Obstetrics\n",
       " 4691  : : : Sex: M Service: CSURG Allergies: Penicil...  41071      Cardiology\n",
       " 4692  : : : Sex: F Service: Cardiothoracic The patie...   4240      Cardiology\n",
       " \n",
       " [3114 rows x 3 columns],\n",
       " 'test':                                                    text  label  \\\n",
       " 0     : : Service: CCU HISTORY OF PRESENT ILLNESS: T...    486   \n",
       " 1     : : : Sex: M Service: MEDICINE Allergies: Aspi...   5770   \n",
       " 2     : : : Sex: M Service: CARDIOTHOARCIC CHIEF COM...  41401   \n",
       " 3     : : : Sex: M Service:NEONATOLOGY PRIMARY DIAGN...  V3101   \n",
       " 7     : : : Sex: M Service: NEUROSURGERY Allergies: ...    430   \n",
       " ...                                                 ...    ...   \n",
       " 4745  : : : Sex: F Service: ADMISSION DIAGNOSES: . D...  V3001   \n",
       " 4748  : : : Sex: M Service: CCU Medicine ADMITTING D...   4280   \n",
       " 4750  : : : Sex: M Service: CARDIAC SURGERY PAST MED...  41401   \n",
       " 4751  : : Service: ACOVE HISTORY OF PRESENT ILLNESS:...   5070   \n",
       " 4752  : : : Sex: F Service: MEDICINE Allergies: Hepa...    486   \n",
       " \n",
       "        triage-category  \n",
       " 0          Respiratory  \n",
       " 1     Gastroenterology  \n",
       " 2           Cardiology  \n",
       " 3           Obstetrics  \n",
       " 7            Neurology  \n",
       " ...                ...  \n",
       " 4745        Obstetrics  \n",
       " 4748        Cardiology  \n",
       " 4750        Cardiology  \n",
       " 4751       Respiratory  \n",
       " 4752       Respiratory  \n",
       " \n",
       " [3172 rows x 3 columns]}"
      ]
     },
     "execution_count": 7,
     "metadata": {},
     "output_type": "execute_result"
    }
   ],
   "source": [
    "new_train_data"
   ]
  }
 ],
 "metadata": {
  "kernelspec": {
   "display_name": "nlp_projects",
   "language": "python",
   "name": "nlp_projects"
  },
  "language_info": {
   "codemirror_mode": {
    "name": "ipython",
    "version": 3
   },
   "file_extension": ".py",
   "mimetype": "text/x-python",
   "name": "python",
   "nbconvert_exporter": "python",
   "pygments_lexer": "ipython3",
   "version": "3.6.9"
  }
 },
 "nbformat": 4,
 "nbformat_minor": 5
}
