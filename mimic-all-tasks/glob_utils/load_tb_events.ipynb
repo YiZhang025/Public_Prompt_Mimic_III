{
 "cells": [
  {
   "cell_type": "code",
   "execution_count": 1,
   "id": "7c5148f5",
   "metadata": {},
   "outputs": [],
   "source": [
    "from tbparse import SummaryReader\n",
    "import torch"
   ]
  },
  {
   "cell_type": "code",
   "execution_count": 6,
   "id": "d2cef372",
   "metadata": {},
   "outputs": [],
   "source": [
    "torch.cuda.set_device(8)"
   ]
  },
  {
   "cell_type": "code",
   "execution_count": 8,
   "id": "a4827fe8",
   "metadata": {},
   "outputs": [
    {
     "data": {
      "text/plain": [
       "8"
      ]
     },
     "execution_count": 8,
     "metadata": {},
     "output_type": "execute_result"
    }
   ],
   "source": [
    "torch.cuda.current_device()"
   ]
  },
  {
   "cell_type": "code",
   "execution_count": 10,
   "id": "52c41099",
   "metadata": {},
   "outputs": [
    {
     "data": {
      "text/plain": [
       "device(type='cuda', index=8)"
      ]
     },
     "execution_count": 10,
     "metadata": {},
     "output_type": "execute_result"
    }
   ],
   "source": [
    "device = torch.device('cuda:8')\n",
    "device"
   ]
  },
  {
   "cell_type": "code",
   "execution_count": 16,
   "id": "dc7e5ac6",
   "metadata": {},
   "outputs": [],
   "source": [
    "torch.cuda.set_device(device)"
   ]
  },
  {
   "cell_type": "code",
   "execution_count": 19,
   "id": "e3d4aca9",
   "metadata": {},
   "outputs": [
    {
     "ename": "TypeError",
     "evalue": "get_device_properties() missing 1 required positional argument: 'device'",
     "output_type": "error",
     "traceback": [
      "\u001b[0;31m---------------------------------------------------------------------------\u001b[0m",
      "\u001b[0;31mTypeError\u001b[0m                                 Traceback (most recent call last)",
      "\u001b[0;32m/tmp/ipykernel_20166/3156483124.py\u001b[0m in \u001b[0;36m<module>\u001b[0;34m\u001b[0m\n\u001b[0;32m----> 1\u001b[0;31m \u001b[0mtorch\u001b[0m\u001b[0;34m.\u001b[0m\u001b[0mcuda\u001b[0m\u001b[0;34m.\u001b[0m\u001b[0mget_device_properties\u001b[0m\u001b[0;34m(\u001b[0m\u001b[0;34m)\u001b[0m\u001b[0;34m\u001b[0m\u001b[0;34m\u001b[0m\u001b[0m\n\u001b[0m",
      "\u001b[0;31mTypeError\u001b[0m: get_device_properties() missing 1 required positional argument: 'device'"
     ]
    }
   ],
   "source": [
    "torch.cuda.get_device_properties()"
   ]
  },
  {
   "cell_type": "code",
   "execution_count": 11,
   "id": "59bc8b26",
   "metadata": {},
   "outputs": [
    {
     "ename": "TypeError",
     "evalue": "'module' object is not callable",
     "output_type": "error",
     "traceback": [
      "\u001b[0;31m---------------------------------------------------------------------------\u001b[0m",
      "\u001b[0;31mTypeError\u001b[0m                                 Traceback (most recent call last)",
      "\u001b[0;32m/tmp/ipykernel_10455/3638440066.py\u001b[0m in \u001b[0;36m<module>\u001b[0;34m\u001b[0m\n\u001b[0;32m----> 1\u001b[0;31m \u001b[0mtorch\u001b[0m\u001b[0;34m.\u001b[0m\u001b[0mcuda\u001b[0m\u001b[0;34m(\u001b[0m\u001b[0mdevice\u001b[0m\u001b[0;34m)\u001b[0m\u001b[0;34m\u001b[0m\u001b[0;34m\u001b[0m\u001b[0m\n\u001b[0m",
      "\u001b[0;31mTypeError\u001b[0m: 'module' object is not callable"
     ]
    }
   ],
   "source": [
    "torch.cuda()"
   ]
  },
  {
   "cell_type": "code",
   "execution_count": 2,
   "id": "bda8059b",
   "metadata": {},
   "outputs": [
    {
     "name": "stdout",
     "output_type": "stream",
     "text": [
      "     step                  tag     value\n",
      "0      12     train/batch_loss  1.897350\n",
      "1      25     train/batch_loss  1.481459\n",
      "2      37     train/batch_loss  1.329389\n",
      "3      50     train/batch_loss  1.182046\n",
      "4      62     train/batch_loss  1.096310\n",
      "..    ...                  ...       ...\n",
      "779    14         valid/recall  0.912653\n",
      "780     0   zero_shot/accuracy  0.188840\n",
      "781     0         zero_shot/f1  0.064474\n",
      "782     0  zero_shot/precision  0.044349\n",
      "783     0     zero_shot/recall  0.188840\n",
      "\n",
      "[784 rows x 3 columns]\n"
     ]
    },
    {
     "name": "stderr",
     "output_type": "stream",
     "text": [
      "2022-02-23 09:33:32.385259: W tensorflow/stream_executor/platform/default/dso_loader.cc:64] Could not load dynamic library 'libcusolver.so.11'; dlerror: libcusolver.so.11: cannot open shared object file: No such file or directory; LD_LIBRARY_PATH: /usr/local/cuda/extras/CUPTI/lib64:/usr/local/cuda-9.0/lib64\n",
      "2022-02-23 09:33:32.386043: W tensorflow/core/common_runtime/gpu/gpu_device.cc:1850] Cannot dlopen some GPU libraries. Please make sure the missing libraries mentioned above are installed properly if you would like to use GPU. Follow the guide at https://www.tensorflow.org/install/gpu for how to download and setup the required libraries for your platform.\n",
      "Skipping registering GPU devices...\n",
      "2022-02-23 09:33:32.386424: I tensorflow/core/platform/cpu_feature_guard.cc:151] This TensorFlow binary is optimized with oneAPI Deep Neural Network Library (oneDNN) to use the following CPU instructions in performance-critical operations:  AVX2 FMA\n",
      "To enable them in other operations, rebuild TensorFlow with the appropriate compiler flags.\n"
     ]
    }
   ],
   "source": [
    "# load one from prompt learning\n",
    "log_dir = \"/mnt/sdg/niallt/saved_models/mimic-tasks/prompt-based-models/logs/icd9_triage/frozen_plm/emilyalsentzer/Bio_ClinicalBERT_tempmanual2_verbsoft0/version_09-02-2022--13-31/\"\n",
    "reader = SummaryReader(log_dir)\n",
    "df = reader.scalars\n",
    "print(df)"
   ]
  },
  {
   "cell_type": "code",
   "execution_count": 3,
   "id": "1e81d918",
   "metadata": {},
   "outputs": [
    {
     "data": {
      "text/html": [
       "<div>\n",
       "<style scoped>\n",
       "    .dataframe tbody tr th:only-of-type {\n",
       "        vertical-align: middle;\n",
       "    }\n",
       "\n",
       "    .dataframe tbody tr th {\n",
       "        vertical-align: top;\n",
       "    }\n",
       "\n",
       "    .dataframe thead th {\n",
       "        text-align: right;\n",
       "    }\n",
       "</style>\n",
       "<table border=\"1\" class=\"dataframe\">\n",
       "  <thead>\n",
       "    <tr style=\"text-align: right;\">\n",
       "      <th></th>\n",
       "      <th>step</th>\n",
       "      <th>tag</th>\n",
       "      <th>value</th>\n",
       "    </tr>\n",
       "  </thead>\n",
       "  <tbody>\n",
       "    <tr>\n",
       "      <th>735</th>\n",
       "      <td>0</td>\n",
       "      <td>valid/f1</td>\n",
       "      <td>0.878964</td>\n",
       "    </tr>\n",
       "    <tr>\n",
       "      <th>736</th>\n",
       "      <td>1</td>\n",
       "      <td>valid/f1</td>\n",
       "      <td>0.889502</td>\n",
       "    </tr>\n",
       "    <tr>\n",
       "      <th>737</th>\n",
       "      <td>2</td>\n",
       "      <td>valid/f1</td>\n",
       "      <td>0.888932</td>\n",
       "    </tr>\n",
       "    <tr>\n",
       "      <th>738</th>\n",
       "      <td>3</td>\n",
       "      <td>valid/f1</td>\n",
       "      <td>0.897387</td>\n",
       "    </tr>\n",
       "    <tr>\n",
       "      <th>739</th>\n",
       "      <td>4</td>\n",
       "      <td>valid/f1</td>\n",
       "      <td>0.890755</td>\n",
       "    </tr>\n",
       "    <tr>\n",
       "      <th>740</th>\n",
       "      <td>5</td>\n",
       "      <td>valid/f1</td>\n",
       "      <td>0.909287</td>\n",
       "    </tr>\n",
       "    <tr>\n",
       "      <th>741</th>\n",
       "      <td>6</td>\n",
       "      <td>valid/f1</td>\n",
       "      <td>0.906701</td>\n",
       "    </tr>\n",
       "    <tr>\n",
       "      <th>742</th>\n",
       "      <td>7</td>\n",
       "      <td>valid/f1</td>\n",
       "      <td>0.908065</td>\n",
       "    </tr>\n",
       "    <tr>\n",
       "      <th>743</th>\n",
       "      <td>8</td>\n",
       "      <td>valid/f1</td>\n",
       "      <td>0.908728</td>\n",
       "    </tr>\n",
       "    <tr>\n",
       "      <th>744</th>\n",
       "      <td>9</td>\n",
       "      <td>valid/f1</td>\n",
       "      <td>0.908728</td>\n",
       "    </tr>\n",
       "    <tr>\n",
       "      <th>745</th>\n",
       "      <td>10</td>\n",
       "      <td>valid/f1</td>\n",
       "      <td>0.908728</td>\n",
       "    </tr>\n",
       "    <tr>\n",
       "      <th>746</th>\n",
       "      <td>11</td>\n",
       "      <td>valid/f1</td>\n",
       "      <td>0.908728</td>\n",
       "    </tr>\n",
       "    <tr>\n",
       "      <th>747</th>\n",
       "      <td>12</td>\n",
       "      <td>valid/f1</td>\n",
       "      <td>0.908728</td>\n",
       "    </tr>\n",
       "    <tr>\n",
       "      <th>748</th>\n",
       "      <td>13</td>\n",
       "      <td>valid/f1</td>\n",
       "      <td>0.908728</td>\n",
       "    </tr>\n",
       "    <tr>\n",
       "      <th>749</th>\n",
       "      <td>14</td>\n",
       "      <td>valid/f1</td>\n",
       "      <td>0.908728</td>\n",
       "    </tr>\n",
       "  </tbody>\n",
       "</table>\n",
       "</div>"
      ],
      "text/plain": [
       "     step       tag     value\n",
       "735     0  valid/f1  0.878964\n",
       "736     1  valid/f1  0.889502\n",
       "737     2  valid/f1  0.888932\n",
       "738     3  valid/f1  0.897387\n",
       "739     4  valid/f1  0.890755\n",
       "740     5  valid/f1  0.909287\n",
       "741     6  valid/f1  0.906701\n",
       "742     7  valid/f1  0.908065\n",
       "743     8  valid/f1  0.908728\n",
       "744     9  valid/f1  0.908728\n",
       "745    10  valid/f1  0.908728\n",
       "746    11  valid/f1  0.908728\n",
       "747    12  valid/f1  0.908728\n",
       "748    13  valid/f1  0.908728\n",
       "749    14  valid/f1  0.908728"
      ]
     },
     "execution_count": 3,
     "metadata": {},
     "output_type": "execute_result"
    }
   ],
   "source": [
    "df[df[\"tag\"]==\"valid/f1\"]"
   ]
  },
  {
   "cell_type": "code",
   "execution_count": 13,
   "id": "d40a7d0a",
   "metadata": {},
   "outputs": [
    {
     "data": {
      "text/plain": [
       "True"
      ]
     },
     "execution_count": 13,
     "metadata": {},
     "output_type": "execute_result"
    }
   ],
   "source": [
    "'frozen_plm' in log_dir"
   ]
  },
  {
   "cell_type": "code",
   "execution_count": 15,
   "id": "c03c10da",
   "metadata": {},
   "outputs": [
    {
     "data": {
      "text/plain": [
       "True"
      ]
     },
     "execution_count": 15,
     "metadata": {},
     "output_type": "execute_result"
    }
   ],
   "source": [
    "'tempmixed' in log_dir"
   ]
  },
  {
   "cell_type": "code",
   "execution_count": 4,
   "id": "ff908588",
   "metadata": {},
   "outputs": [
    {
     "name": "stdout",
     "output_type": "stream",
     "text": [
      "      step           tag     value\n",
      "0       49         epoch  0.000000\n",
      "1       99         epoch  0.000000\n",
      "2      149         epoch  0.000000\n",
      "3      199         epoch  0.000000\n",
      "4      249         epoch  0.000000\n",
      "...    ...           ...       ...\n",
      "3055     5  valid/recall  0.918112\n",
      "3056     6  valid/recall  0.918433\n",
      "3057     7  valid/recall  0.920360\n",
      "3058     8  valid/recall  0.922286\n",
      "3059     9  valid/recall  0.923571\n",
      "\n",
      "[3060 rows x 3 columns]\n"
     ]
    }
   ],
   "source": [
    "# load one from clinical longformer pipeline\n",
    "\n",
    "log_dir = \"/mnt/sdg/niallt/saved_models/mimic-tasks/bert-based-models/logs/icd9_triage/frozen_plm/emilyalsentzer/Bio_ClinicalBERT/version_22-02-2022--17-31-12/\"\n",
    "reader = SummaryReader(log_dir)\n",
    "df = reader.scalars\n",
    "print(df)"
   ]
  },
  {
   "cell_type": "code",
   "execution_count": 5,
   "id": "5e7d977f",
   "metadata": {},
   "outputs": [
    {
     "data": {
      "text/html": [
       "<div>\n",
       "<style scoped>\n",
       "    .dataframe tbody tr th:only-of-type {\n",
       "        vertical-align: middle;\n",
       "    }\n",
       "\n",
       "    .dataframe tbody tr th {\n",
       "        vertical-align: top;\n",
       "    }\n",
       "\n",
       "    .dataframe thead th {\n",
       "        text-align: right;\n",
       "    }\n",
       "</style>\n",
       "<table border=\"1\" class=\"dataframe\">\n",
       "  <thead>\n",
       "    <tr style=\"text-align: right;\">\n",
       "      <th></th>\n",
       "      <th>step</th>\n",
       "      <th>tag</th>\n",
       "      <th>value</th>\n",
       "    </tr>\n",
       "  </thead>\n",
       "  <tbody>\n",
       "    <tr>\n",
       "      <th>3027</th>\n",
       "      <td>0</td>\n",
       "      <td>valid/f1</td>\n",
       "      <td>0.100000</td>\n",
       "    </tr>\n",
       "    <tr>\n",
       "      <th>3028</th>\n",
       "      <td>0</td>\n",
       "      <td>valid/f1</td>\n",
       "      <td>0.818529</td>\n",
       "    </tr>\n",
       "    <tr>\n",
       "      <th>3029</th>\n",
       "      <td>1</td>\n",
       "      <td>valid/f1</td>\n",
       "      <td>0.881736</td>\n",
       "    </tr>\n",
       "    <tr>\n",
       "      <th>3030</th>\n",
       "      <td>2</td>\n",
       "      <td>valid/f1</td>\n",
       "      <td>0.873895</td>\n",
       "    </tr>\n",
       "    <tr>\n",
       "      <th>3031</th>\n",
       "      <td>3</td>\n",
       "      <td>valid/f1</td>\n",
       "      <td>0.908225</td>\n",
       "    </tr>\n",
       "    <tr>\n",
       "      <th>3032</th>\n",
       "      <td>4</td>\n",
       "      <td>valid/f1</td>\n",
       "      <td>0.912533</td>\n",
       "    </tr>\n",
       "    <tr>\n",
       "      <th>3033</th>\n",
       "      <td>5</td>\n",
       "      <td>valid/f1</td>\n",
       "      <td>0.913972</td>\n",
       "    </tr>\n",
       "    <tr>\n",
       "      <th>3034</th>\n",
       "      <td>6</td>\n",
       "      <td>valid/f1</td>\n",
       "      <td>0.912850</td>\n",
       "    </tr>\n",
       "    <tr>\n",
       "      <th>3035</th>\n",
       "      <td>7</td>\n",
       "      <td>valid/f1</td>\n",
       "      <td>0.915421</td>\n",
       "    </tr>\n",
       "    <tr>\n",
       "      <th>3036</th>\n",
       "      <td>8</td>\n",
       "      <td>valid/f1</td>\n",
       "      <td>0.915894</td>\n",
       "    </tr>\n",
       "    <tr>\n",
       "      <th>3037</th>\n",
       "      <td>9</td>\n",
       "      <td>valid/f1</td>\n",
       "      <td>0.917973</td>\n",
       "    </tr>\n",
       "  </tbody>\n",
       "</table>\n",
       "</div>"
      ],
      "text/plain": [
       "      step       tag     value\n",
       "3027     0  valid/f1  0.100000\n",
       "3028     0  valid/f1  0.818529\n",
       "3029     1  valid/f1  0.881736\n",
       "3030     2  valid/f1  0.873895\n",
       "3031     3  valid/f1  0.908225\n",
       "3032     4  valid/f1  0.912533\n",
       "3033     5  valid/f1  0.913972\n",
       "3034     6  valid/f1  0.912850\n",
       "3035     7  valid/f1  0.915421\n",
       "3036     8  valid/f1  0.915894\n",
       "3037     9  valid/f1  0.917973"
      ]
     },
     "execution_count": 5,
     "metadata": {},
     "output_type": "execute_result"
    }
   ],
   "source": [
    "df[df[\"tag\"]==\"valid/f1\"]"
   ]
  },
  {
   "cell_type": "markdown",
   "id": "68a0e398",
   "metadata": {},
   "source": [
    "# TODO \n",
    "\n",
    "make funciton that will interatively read in tensorboard events files and split the filename to create certain variables such as \n",
    "template type and whether plm was frozen\n"
   ]
  },
  {
   "cell_type": "code",
   "execution_count": null,
   "id": "27043646",
   "metadata": {},
   "outputs": [],
   "source": [
    "def retrieve_tb_logs(log_dir):\n",
    "    "
   ]
  }
 ],
 "metadata": {
  "kernelspec": {
   "display_name": "3-7-NLP",
   "language": "python",
   "name": "3-7-nlp"
  },
  "language_info": {
   "codemirror_mode": {
    "name": "ipython",
    "version": 3
   },
   "file_extension": ".py",
   "mimetype": "text/x-python",
   "name": "python",
   "nbconvert_exporter": "python",
   "pygments_lexer": "ipython3",
   "version": "3.7.5"
  }
 },
 "nbformat": 4,
 "nbformat_minor": 5
}
