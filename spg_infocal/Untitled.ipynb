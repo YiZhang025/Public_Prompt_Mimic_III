{
 "cells": [
  {
   "cell_type": "code",
   "execution_count": 1,
   "id": "b28891df",
   "metadata": {},
   "outputs": [],
   "source": [
    "import torch\n",
    "import numpy as np\n",
    "import pandas as pd"
   ]
  },
  {
   "cell_type": "code",
   "execution_count": 2,
   "id": "2eb4d0d8",
   "metadata": {},
   "outputs": [
    {
     "data": {
      "text/html": [
       "<div>\n",
       "<style scoped>\n",
       "    .dataframe tbody tr th:only-of-type {\n",
       "        vertical-align: middle;\n",
       "    }\n",
       "\n",
       "    .dataframe tbody tr th {\n",
       "        vertical-align: top;\n",
       "    }\n",
       "\n",
       "    .dataframe thead th {\n",
       "        text-align: right;\n",
       "    }\n",
       "</style>\n",
       "<table border=\"1\" class=\"dataframe\">\n",
       "  <thead>\n",
       "    <tr style=\"text-align: right;\">\n",
       "      <th></th>\n",
       "      <th>epoch</th>\n",
       "      <th>epoch_loss</th>\n",
       "      <th>ppl</th>\n",
       "    </tr>\n",
       "  </thead>\n",
       "  <tbody>\n",
       "    <tr>\n",
       "      <th>0</th>\n",
       "      <td>0</td>\n",
       "      <td>tensor(-121465.6172, device='cuda:0')</td>\n",
       "      <td>tensor(1.3361e+09, device='cuda:0')</td>\n",
       "    </tr>\n",
       "    <tr>\n",
       "      <th>1</th>\n",
       "      <td>1</td>\n",
       "      <td>tensor(-148004.3438, device='cuda:0')</td>\n",
       "      <td>tensor(2.3792e+09, device='cuda:0')</td>\n",
       "    </tr>\n",
       "    <tr>\n",
       "      <th>2</th>\n",
       "      <td>2</td>\n",
       "      <td>tensor(-154488.2969, device='cuda:0')</td>\n",
       "      <td>tensor(1.3362e+09, device='cuda:0')</td>\n",
       "    </tr>\n",
       "    <tr>\n",
       "      <th>3</th>\n",
       "      <td>3</td>\n",
       "      <td>tensor(-159496.7500, device='cuda:0')</td>\n",
       "      <td>tensor(3.7443e+09, device='cuda:0')</td>\n",
       "    </tr>\n",
       "    <tr>\n",
       "      <th>4</th>\n",
       "      <td>4</td>\n",
       "      <td>tensor(-165927.8750, device='cuda:0')</td>\n",
       "      <td>tensor(1.4159e+13, device='cuda:0')</td>\n",
       "    </tr>\n",
       "  </tbody>\n",
       "</table>\n",
       "</div>"
      ],
      "text/plain": [
       "   epoch                             epoch_loss  \\\n",
       "0      0  tensor(-121465.6172, device='cuda:0')   \n",
       "1      1  tensor(-148004.3438, device='cuda:0')   \n",
       "2      2  tensor(-154488.2969, device='cuda:0')   \n",
       "3      3  tensor(-159496.7500, device='cuda:0')   \n",
       "4      4  tensor(-165927.8750, device='cuda:0')   \n",
       "\n",
       "                                   ppl  \n",
       "0  tensor(1.3361e+09, device='cuda:0')  \n",
       "1  tensor(2.3792e+09, device='cuda:0')  \n",
       "2  tensor(1.3362e+09, device='cuda:0')  \n",
       "3  tensor(3.7443e+09, device='cuda:0')  \n",
       "4  tensor(1.4159e+13, device='cuda:0')  "
      ]
     },
     "execution_count": 2,
     "metadata": {},
     "output_type": "execute_result"
    }
   ],
   "source": [
    "df = pd.read_csv(\"./artifacts/LM_training_stats_2021-05-25.csv\")\n",
    "df.head()"
   ]
  },
  {
   "cell_type": "code",
   "execution_count": 27,
   "id": "03c4b76c",
   "metadata": {},
   "outputs": [],
   "source": [
    "def return_float(row):\n",
    "    return float(row.split(\",\")[0][7:])"
   ]
  },
  {
   "cell_type": "code",
   "execution_count": null,
   "id": "4132f9e1",
   "metadata": {},
   "outputs": [],
   "source": [
    "rationales_df.apply (lambda row: get_case(row), axis=1)"
   ]
  },
  {
   "cell_type": "code",
   "execution_count": 28,
   "id": "e4f0b2d2",
   "metadata": {},
   "outputs": [],
   "source": [
    "df[\"epoch_loss\"] = df[\"epoch_loss\"].apply(return_float)"
   ]
  },
  {
   "cell_type": "code",
   "execution_count": 30,
   "id": "f3bd65e8",
   "metadata": {},
   "outputs": [
    {
     "data": {
      "text/plain": [
       "<matplotlib.axes._subplots.AxesSubplot at 0x21105427c88>"
      ]
     },
     "execution_count": 30,
     "metadata": {},
     "output_type": "execute_result"
    },
    {
     "data": {
      "image/png": "[encoded data removed]",
      "text/plain": [
       "<Figure size 432x288 with 1 Axes>"
      ]
     },
     "metadata": {
      "needs_background": "light"
     },
     "output_type": "display_data"
    }
   ],
   "source": [
    "df[\"epoch_loss\"].plot()"
   ]
  },
  {
   "cell_type": "code",
   "execution_count": 32,
   "id": "8bceb5c4",
   "metadata": {},
   "outputs": [
    {
     "data": {
      "text/plain": [
       "<matplotlib.axes._subplots.AxesSubplot at 0x21108c59d08>"
      ]
     },
     "execution_count": 32,
     "metadata": {},
     "output_type": "execute_result"
    },
    {
     "data": {
      "image/png": "[encoded data removed]",
      "text/plain": [
       "<Figure size 432x288 with 1 Axes>"
      ]
     },
     "metadata": {
      "needs_background": "light"
     },
     "output_type": "display_data"
    }
   ],
   "source": [
    "df_new = pd.read_csv(\"./artifacts/LM_newembs200_training_stats_2021-05-26.csv\")\n",
    "df_new[\"epoch_loss\"] = df_new[\"epoch_loss\"].apply(return_float)\n",
    "df_new[\"epoch_loss\"].plot()"
   ]
  }
 ],
 "metadata": {
  "kernelspec": {
   "display_name": "Python 3",
   "language": "python",
   "name": "python3"
  },
  "language_info": {
   "codemirror_mode": {
    "name": "ipython",
    "version": 3
   },
   "file_extension": ".py",
   "mimetype": "text/x-python",
   "name": "python",
   "nbconvert_exporter": "python",
   "pygments_lexer": "ipython3",
   "version": "3.7.10"
  }
 },
 "nbformat": 4,
 "nbformat_minor": 5
}
